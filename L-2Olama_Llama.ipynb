{
 "cells": [
  {
   "cell_type": "markdown",
   "metadata": {},
   "source": [
    "<!-- \n",
    "Use command ollama serve\n",
    "to run the server\n",
    " -->"
   ]
  },
  {
   "cell_type": "code",
   "execution_count": 2,
   "metadata": {},
   "outputs": [],
   "source": [
    "# Use command \n",
    "# -->ollama serve \n",
    "# to run the ollama server\n"
   ]
  },
  {
   "cell_type": "code",
   "execution_count": 3,
   "metadata": {},
   "outputs": [],
   "source": [
    "# imports\n",
    "\n",
    "import ollama"
   ]
  },
  {
   "cell_type": "code",
   "execution_count": 4,
   "metadata": {},
   "outputs": [],
   "source": [
    "# Constants\n",
    "\n",
    "OLLAMA_API =  \"http://localhost:11434/chat\"\n",
    "HEADERS = {\"Content-Type\": \"application/json\"}\n",
    "MODEL = \"deepseek-r1:1.5b\""
   ]
  },
  {
   "cell_type": "code",
   "execution_count": null,
   "metadata": {},
   "outputs": [],
   "source": [
    "# Create a messages list using the same format that we used for OpenAI\n",
    "\n",
    "messages = [\n",
    "    \n",
    "    {\"role\": \"user\", \"content\": \"What is future transaction in merger and acquisition. Tell me in short\"}\n",
    "]"
   ]
  },
  {
   "cell_type": "code",
   "execution_count": 6,
   "metadata": {},
   "outputs": [],
   "source": [
    "payload = {\n",
    "        \"model\": MODEL,\n",
    "        \"messages\": messages,\n",
    "        \"stream\": False\n",
    "    }"
   ]
  },
  {
   "cell_type": "code",
   "execution_count": 7,
   "metadata": {},
   "outputs": [
    {
     "name": "stdout",
     "output_type": "stream",
     "text": [
      "<think>\n",
      "Okay, so I'm trying to understand what a \"future transaction\" means in the context of mergers and acquisitions. From what I remember, when companies merge or acquire each other, there are different terms used for transactions where they're not completed yet. \n",
      "\n",
      "I think a \"future transaction\" refers to an opportunity or potential engagement that might happen in the future. Maybe it's part of the process before the deal is finalized? So, even if the transaction isn't done now, there might be a chance for one company to take advantage of the other.\n",
      "\n",
      "Wait, I've heard terms like tender offer and acceptance offer. A tender offer would be the initial invitation from the acquiring company for their shareholders or stock price to buy back shares or make other offers, maybe through intermediaries. If that doesn't happen by a set deadline, it becomes a future transaction. So, companies might wait until another party has acted.\n",
      "\n",
      "Another term I'm seeing is potential acquisition. That sounds like an opportunity where one company could potentially acquire another before the deal goes through. Maybe this refers to a situation where a merger candidate can enter into agreements or take actions that are not finalized yet.\n",
      "\n",
      "I also remember hearing about equity adjustments and equity buybacks. These might be part of the future transactions, allowing companies to change their ownership structure in anticipation of the merger. For example, if a company wants to acquire another entity and has some cash flow issues, they might offer additional shares or take other benefits upfront.\n",
      "\n",
      "What about potential completions? That could refer to when all the details for a transaction are final and can't be changed anymore until it's actually completed. So, during the planning phase before that happens, there are potential future transactions.\n",
      "\n",
      "Putting this together, I think a \"future transaction\" in mergers and acquisitions refers to various opportunities or possibilities that arise before the actual deal is finalized. These could include tender offers, potential acquisition opportunities, equity adjustments, buybacks, or other arrangements that may happen during the process until all details are settled.\n",
      "</think>\n",
      "\n",
      "In the context of mergers and acquisitions, a \"future transaction\" refers to various opportunities or possibilities that emerge before an actual merger or acquisition is finalized. These future transactions can include:\n",
      "\n",
      "1. **Tender Offer**: An initial invitation from the acquiring company to acquire shares or other contingent interests through intermediaries without finalizing the deal.\n",
      "\n",
      "2. **Potential Acquisition**: A situation where one company has entered agreements with others or may be taking actions, such as stock buybacks or equity adjustments, that are not yet finalized.\n",
      "\n",
      "3. **Equity Adjustments and Buybacks**: Changes in ownership structure, such as offering additional shares to acquire another company, which can occur during the planning phase before the transaction is completed.\n",
      "\n",
      "4. **Potential Completions**: Opportunities where all details for a merger cannot be altered until it is fully executed, typically during planning phases but not after the deal is finalized.\n",
      "\n",
      "These future transactions allow companies to plan and prepare strategically before an actual merger or acquisition, addressing potential issues and opportunities that could impact the transaction.\n"
     ]
    }
   ],
   "source": [
    "response = ollama.chat(model=MODEL, messages=messages)\n",
    "print(response['message']['content'])"
   ]
  }
 ],
 "metadata": {
  "kernelspec": {
   "display_name": "llms",
   "language": "python",
   "name": "python3"
  },
  "language_info": {
   "codemirror_mode": {
    "name": "ipython",
    "version": 3
   },
   "file_extension": ".py",
   "mimetype": "text/x-python",
   "name": "python",
   "nbconvert_exporter": "python",
   "pygments_lexer": "ipython3",
   "version": "3.11.11"
  }
 },
 "nbformat": 4,
 "nbformat_minor": 2
}
